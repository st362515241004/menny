{
 "cells": [
  {
   "cell_type": "code",
   "execution_count": 2,
   "metadata": {},
   "outputs": [
    {
     "name": "stdout",
     "output_type": "stream",
     "text": [
      "ขายจักรยานไป : 2500\n",
      "ได้กำไร : 15\n",
      "ราคาทุนของจักรยาน: 2125 บาท\n"
     ]
    }
   ],
   "source": [
    "#ภัทรขายจักรยานไปในราคา2,500บาทได้กำไร15%จงหาราคาทุนของจักรยาน\n",
    "a=int(input(\"ขายจักรยานไป : \"))\n",
    "b=int(input(\"ได้กำไร : \"))\n",
    "c=(a*b)/100\n",
    "d=a-c\n",
    "print(\"ราคาทุนของจักรยาน:\",int(d),\"บาท\")"
   ]
  },
  {
   "cell_type": "code",
   "execution_count": null,
   "metadata": {},
   "outputs": [],
   "source": []
  }
 ],
 "metadata": {
  "kernelspec": {
   "display_name": "Python 3",
   "language": "python",
   "name": "python3"
  },
  "language_info": {
   "codemirror_mode": {
    "name": "ipython",
    "version": 3
   },
   "file_extension": ".py",
   "mimetype": "text/x-python",
   "name": "python",
   "nbconvert_exporter": "python",
   "pygments_lexer": "ipython3",
   "version": "3.7.3"
  }
 },
 "nbformat": 4,
 "nbformat_minor": 2
}
