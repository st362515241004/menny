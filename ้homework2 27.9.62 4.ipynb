{
 "cells": [
  {
   "cell_type": "code",
   "execution_count": 5,
   "metadata": {},
   "outputs": [
    {
     "name": "stdout",
     "output_type": "stream",
     "text": [
      "คะเเนนเก็บของวิชาไพทรอนทั้งหมด : 75\n",
      "เกรด B+\n"
     ]
    }
   ],
   "source": [
    "#นายข้นมีคะเเนนเก็บของวิชาไพทรอนทั้งหมด75คะเเนนเขาจะได้เกรดอะไร\n",
    "a=int(input(\"คะเเนนเก็บของวิชาไพทรอนทั้งหมด : \"))\n",
    "if 80<=a<=100:\n",
    "    print(\"เกรดA\")\n",
    "elif 75<=a<=79:\n",
    "        print(\"เกรด B+\")\n",
    "elif 70<=a<=74:\n",
    "        print(\"เกรด B\")\n",
    "elif 65<=a<=69:\n",
    "        print(\"เกรด C+\")\n",
    "elif 60<=a<=64:\n",
    "        print(\"เกรด C\")\n",
    "elif 55<=a<=59:\n",
    "        print(\"เกรด D+\")\n",
    "elif 50<=a<=54:\n",
    "        print(\"เกรด D\")\n",
    "elif 0<=a<=49:\n",
    "        print(\"เกรด F\")\n",
    "else:\n",
    "        print(\"Error\")\n",
    "\n",
    "    \n",
    "\n"
   ]
  },
  {
   "cell_type": "code",
   "execution_count": null,
   "metadata": {},
   "outputs": [],
   "source": []
  },
  {
   "cell_type": "code",
   "execution_count": null,
   "metadata": {},
   "outputs": [],
   "source": []
  }
 ],
 "metadata": {
  "kernelspec": {
   "display_name": "Python 3",
   "language": "python",
   "name": "python3"
  },
  "language_info": {
   "codemirror_mode": {
    "name": "ipython",
    "version": 3
   },
   "file_extension": ".py",
   "mimetype": "text/x-python",
   "name": "python",
   "nbconvert_exporter": "python",
   "pygments_lexer": "ipython3",
   "version": "3.7.3"
  }
 },
 "nbformat": 4,
 "nbformat_minor": 2
}
