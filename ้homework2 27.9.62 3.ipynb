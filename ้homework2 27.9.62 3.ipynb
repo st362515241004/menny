{
 "cells": [
  {
   "cell_type": "code",
   "execution_count": 2,
   "metadata": {},
   "outputs": [
    {
     "name": "stdout",
     "output_type": "stream",
     "text": [
      "1 ไร่ = 1600\n",
      "วิชัยมีที่ดิน : 100\n",
      "เเบ่งให้ลูก2คนคนละ : 32000\n",
      "วิชัยจะเหลือที่ดิน: 60 ไร่\n"
     ]
    }
   ],
   "source": [
    "#วิชัยมีที่ดิน100ไร่เเบ่งให้ลูก2คนคนละ32,000 ตร.มวิชัยจะเหลือที่ดินกี่ไร่(กำหนด 1ไร่=1600ตร.ม)\n",
    "a=int(input(\"1 ไร่ = \"))\n",
    "b=int(input(\"วิชัยมีที่ดิน : \"))\n",
    "c=int(input(\"เเบ่งให้ลูก2คนคนละ : \"))\n",
    "d=(b*a)-(c*2)\n",
    "e=d/a\n",
    "print(\"วิชัยจะเหลือที่ดิน:\",int(e),\"ไร่\")\n",
    "\n",
    "\n"
   ]
  },
  {
   "cell_type": "code",
   "execution_count": null,
   "metadata": {},
   "outputs": [],
   "source": []
  }
 ],
 "metadata": {
  "kernelspec": {
   "display_name": "Python 3",
   "language": "python",
   "name": "python3"
  },
  "language_info": {
   "codemirror_mode": {
    "name": "ipython",
    "version": 3
   },
   "file_extension": ".py",
   "mimetype": "text/x-python",
   "name": "python",
   "nbconvert_exporter": "python",
   "pygments_lexer": "ipython3",
   "version": "3.7.3"
  }
 },
 "nbformat": 4,
 "nbformat_minor": 2
}
