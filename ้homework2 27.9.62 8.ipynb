{
 "cells": [
  {
   "cell_type": "code",
   "execution_count": 1,
   "metadata": {},
   "outputs": [
    {
     "name": "stdout",
     "output_type": "stream",
     "text": [
      "พ่อมีตัง :20000\n",
      "จ่ายค่าบ้าน :2500\n",
      "ผ่อนรถ :4500\n",
      "พ่อจะเหลือเงิน 13000 บาท\n"
     ]
    }
   ],
   "source": [
    "#พ่อมีตัง20000บาทจ่ายค่าบ้านไป2500บาทเเละผ่อนรถอีก4500บาทพ่อจะเหลือเงินเท่าไร\n",
    "a=int(input(\"พ่อมีตัง :\"))\n",
    "b=int(input(\"จ่ายค่าบ้าน :\"))\n",
    "c=int(input(\"ผ่อนรถ :\"))\n",
    "d=a-(b+c)\n",
    "print(\"พ่อจะเหลือเงิน\",d,\"บาท\")"
   ]
  },
  {
   "cell_type": "code",
   "execution_count": null,
   "metadata": {},
   "outputs": [],
   "source": []
  }
 ],
 "metadata": {
  "kernelspec": {
   "display_name": "Python 3",
   "language": "python",
   "name": "python3"
  },
  "language_info": {
   "codemirror_mode": {
    "name": "ipython",
    "version": 3
   },
   "file_extension": ".py",
   "mimetype": "text/x-python",
   "name": "python",
   "nbconvert_exporter": "python",
   "pygments_lexer": "ipython3",
   "version": "3.7.3"
  }
 },
 "nbformat": 4,
 "nbformat_minor": 2
}
