{
 "cells": [
  {
   "cell_type": "code",
   "execution_count": 3,
   "metadata": {},
   "outputs": [
    {
     "name": "stdout",
     "output_type": "stream",
     "text": [
      "ขนาดถังน้ำมัน : 30\n",
      "ระยะทางทั้งหมด :180\n",
      "เขาต้องเติมน้ำมัน 2 ครั้ง\n"
     ]
    }
   ],
   "source": [
    "#อั้มขับรถไปเที่ยวทะเลโดยถังน้ำมันของรถบรรจุได้30ลิตรระยะทางจากบ้านอั้มไปทะเล 180 กิโลเมตร\n",
    "#เขาต้องเติมน้ำมันกี่ครั้งจึงจะถึงทะเล น้ำมันเริ่มต้นเท่ากับ0 (กำหนด 3กิโลเมตร= 1ลิตร)\n",
    "a=int(input(\"ขนาดถังน้ำมัน : \")) #ถังน้ำมันของรถบรรจุได้\n",
    "b=int(input(\"ระยะทางทั้งหมด :\")) #ระยะทางทั้งหมด\n",
    "c=0 #ระยะทางที่ไปได้\n",
    "d=3 #โจทย์กำหนด\n",
    "oil=0 #จำนวนครั้งเติมน้ำมัน\n",
    "while True:\n",
    "    if c>=b:\n",
    "        break\n",
    "    oil+=1\n",
    "    c+=(a*d)\n",
    "print(\"เขาต้องเติมน้ำมัน\",oil,\"ครั้ง\")    \n",
    "       \n",
    "    \n",
    "    \n"
   ]
  },
  {
   "cell_type": "code",
   "execution_count": null,
   "metadata": {},
   "outputs": [],
   "source": []
  }
 ],
 "metadata": {
  "kernelspec": {
   "display_name": "Python 3",
   "language": "python",
   "name": "python3"
  },
  "language_info": {
   "codemirror_mode": {
    "name": "ipython",
    "version": 3
   },
   "file_extension": ".py",
   "mimetype": "text/x-python",
   "name": "python",
   "nbconvert_exporter": "python",
   "pygments_lexer": "ipython3",
   "version": "3.7.3"
  }
 },
 "nbformat": 4,
 "nbformat_minor": 2
}
