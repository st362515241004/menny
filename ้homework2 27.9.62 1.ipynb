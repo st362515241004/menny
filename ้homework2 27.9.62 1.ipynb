{
 "cells": [
  {
   "cell_type": "code",
   "execution_count": 4,
   "metadata": {},
   "outputs": [
    {
     "name": "stdout",
     "output_type": "stream",
     "text": [
      "ขายผักสดไป : 19\n",
      "ราคากิโลกรัมละ : 10\n",
      "เอาเงินที่ขายผักได้ไปซื้อแอปเปิลราคาผลละ : 8\n",
      "จะได้แอปเปิล : 23 ผล\n"
     ]
    }
   ],
   "source": [
    "#ขายผักสดไป 19 กิโลกรัมราคากิโลกรัมละ 10 บาทเอาเงินที่ขายผักได้ไปซื้อแอปเปิลราคาผลละ 8 บาท จะได้แอปเปิลกี่ผล\n",
    "a=int(input(\"ขายผักสดไป : \"))\n",
    "b=int(input(\"ราคากิโลกรัมละ : \"))\n",
    "c=int(input(\"เอาเงินที่ขายผักได้ไปซื้อแอปเปิลราคาผลละ : \"))\n",
    "d=(a*b)/c\n",
    "print(\"จะได้แอปเปิล :\",int(d),\"ผล\")"
   ]
  },
  {
   "cell_type": "code",
   "execution_count": null,
   "metadata": {},
   "outputs": [],
   "source": []
  }
 ],
 "metadata": {
  "kernelspec": {
   "display_name": "Python 3",
   "language": "python",
   "name": "python3"
  },
  "language_info": {
   "codemirror_mode": {
    "name": "ipython",
    "version": 3
   },
   "file_extension": ".py",
   "mimetype": "text/x-python",
   "name": "python",
   "nbconvert_exporter": "python",
   "pygments_lexer": "ipython3",
   "version": "3.7.3"
  }
 },
 "nbformat": 4,
 "nbformat_minor": 2
}
