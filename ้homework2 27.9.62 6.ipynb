{
 "cells": [
  {
   "cell_type": "code",
   "execution_count": 1,
   "metadata": {},
   "outputs": [
    {
     "name": "stdout",
     "output_type": "stream",
     "text": [
      "จำนวนเต็มที่เริ่ม :1\n",
      "จำนวนเต็มสุดท้าย:80\n",
      "ระยะการข้าม:9\n",
      "1\n",
      "10\n",
      "19\n",
      "28\n",
      "37\n",
      "46\n",
      "55\n",
      "64\n",
      "73\n"
     ]
    }
   ],
   "source": [
    "#โปรเเกรมเเสดงผลจำเต็มที่สามารถกำหนดระยะการข้ามได้\n",
    "a=int(input(\"จำนวนเต็มที่เริ่ม :\"))\n",
    "b=int(input(\"จำนวนเต็มสุดท้าย:\"))\n",
    "c=int(input(\"ระยะการข้าม:\"))\n",
    "for x in range (a,b,c):\n",
    "    print(x)\n"
   ]
  },
  {
   "cell_type": "code",
   "execution_count": null,
   "metadata": {},
   "outputs": [],
   "source": []
  }
 ],
 "metadata": {
  "kernelspec": {
   "display_name": "Python 3",
   "language": "python",
   "name": "python3"
  },
  "language_info": {
   "codemirror_mode": {
    "name": "ipython",
    "version": 3
   },
   "file_extension": ".py",
   "mimetype": "text/x-python",
   "name": "python",
   "nbconvert_exporter": "python",
   "pygments_lexer": "ipython3",
   "version": "3.7.3"
  }
 },
 "nbformat": 4,
 "nbformat_minor": 2
}
